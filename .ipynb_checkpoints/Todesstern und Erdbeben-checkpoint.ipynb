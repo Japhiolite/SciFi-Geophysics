{
 "cells": [
  {
   "cell_type": "markdown",
   "metadata": {},
   "source": [
    "# Energieträger Kyberkristalle\n",
    "\n",
    "<hr>\n",
    "\n",
    "<center> _\"Only the strongest Stars have hearts of Kyber.\"_ [Chirrut Îmwe](http://starwars.wikia.com/wiki/Chirrut_%C3%8Emwe) </center>  \n",
    "\n",
    "<hr>\n",
    "\n",
    "Nehmen wir an, Chirrut bezieht sich wirklich auf Sterne, so könnten [Kyber Kristalle](http://starwars.wikia.com/wiki/Kyber_crystal), das Herz der Lichtschwerter und auch des Todessterns, aus _den stärksten Sternen_ kommen. Da folgt direkt die Frage, was diese _stärksten Sterne_ sein könnten.  \n",
    "* junge (Hyper-)Riesen, wie [Deneb](https://de.wikipedia.org/wiki/Deneb) oder [R136a1]( https://de.wikipedia.org/wiki/R136a1), der ca zehn Millionen mal heller leuchtet als die Sonne?    \n",
    "* alte massereiche Sterne, wie [Neutronensterne](https://de.wikipedia.org/wiki/Neutronenstern), die eine unvorstellbar hohe Dichte ( $4.8 10^{17}$ kg m$^{-1}$ ) haben?  \n",
    "\n",
    "Die Suche nach einem stabilen Kristall bei einem Neutronenstern kann man schon nach wenigen Metern Tiefe aufgeben (bis in ca 10 m Tiefe bilden in einem Kristallgitter gebundene Eisenatomkerne und Elektronen die Kruste). Solche Eisenatomkernkristalle können auch noch in einer Tiefe von 2 km gefunden werden.\n",
    "Aber bei einer Dichte, die ein Tausendstel eines Atomkerns annähert, könnten solche Kristalle sicherlich kaum am Hals (siehe [Rogue One](http://www.imdb.com/title/tt3748528/)) getragen werden, oder im Lichtschwert verpackt am Gürtel.  \n",
    "\n",
    "Auf Suchen im Internet bin ich auf eine [weitere Erklärung](https://scifi.stackexchange.com/questions/160998/what-does-chirrut-mean-by-the-strongest-stars-have-hearts-of-kyber) gestoßen, die fiktiven Kyber Kristalle in unsere Realität zu übersetzen....  \n",
    "Kurzfassung:  \n",
    "* Die Sterne, die gemeint sein könnten, könnten Weiße Zwerge sein  \n",
    "* Weiße Zwerge weisen auch schon eine beachtliche Dichte auf (ein Teelöffel, also 5 cm$^3$, wiegen gut 5 Tonnen ).\n",
    "* Berücksichtigt man zum Kristallaufbau aber nur Elektronen der [entarteten Materie](https://de.wikipedia.org/wiki/Entartete_Materie) eines weißen Zwerges, wögen 5 cm$^3$ so viel wie ein ordentliches Steak, um die 230 Gramm.  \n",
    "* Dies hieße, dass das Kristallmaterial nur aus einer Elektronenmatrix bestünden, die zur Hälfte aus positiv geladenen Antimateriepositronen besteht. In diesem 50/50 Gleichgewicht könnte diese dichte Kristallmatrix stabil sein.  \n",
    "\n",
    "Selbstverständlich sind das alles recht abstruse Hypothesen, aber angenommen, wir haben einen Solch dichten Kristall, der sich polarisieren lässt. Hinweise dafür findet man im Buch _Catalyst: A Rogue One Novel_:  \n",
    "_\"He held the crystal up to the light of the displays, marveling at the kyber's mix of transparency and opacity - characteristics the ancient Jedi had referred to as 'the water of the kyber'.  The energy potential was given; his team had proven as much in their earliest piezoelectric experiments.\"_  \n",
    "Folglich tritt in Kyberkristallen eine starke elektrische Spannung auf, wenn diese elastisch verformt werden (siehe [Piezoelektrischer Effekt](https://de.wikipedia.org/wiki/Piezoelektrizit%C3%A4t))."
   ]
  },
  {
   "cell_type": "markdown",
   "metadata": {},
   "source": [
    "## Erdbeben und Momenten-Magnitude  \n",
    "Erdbeben sind ein allgemein bekanntes Phänomen tektonisch aktiver Planetoide. Ebenso bekannt ist wahrscheinlich die [Richterskala](https://de.wikipedia.org/wiki/Richterskala) zur Bestimmung der Erdbebenstärke. Da diese direkt auf Amplitudenmessungen von Seismographen basiert, besteht das Problem, dass sie bei stärkeren Erbeben (und daher auch bei größeren Distanzen) nicht zuverlässig ist (da eine Sättigung bei höheren Magnituden eintritt).  \n",
    "\n",
    "Daher nutzen wir hier die [Momenten-Magnituden-Skala](https://de.wikipedia.org/wiki/Momenten-Magnituden-Skala), welche direkt auf dem [Seismischen Moment](https://de.wikipedia.org/wiki/Seismisches_Moment) basiert.  \n",
    "\n",
    "Das seismische Moment $M_0$ ist das Skalerprodukt aus dem Schermodul des Gesteins ($\\mu$), der Bruchfläche ($A$), und der durchschnittlichen Verschiebung entlang der Bruchfläche ($u$):  \n",
    "\n",
    "$$M_0 = \\mu A u$$\n",
    "\n",
    "Die darauf basierende Momenten-Magnitude ($M_W$) ist aufbauend auf der Oberflächenmagnitude ($M_S$) definiert als:  \n",
    "\n",
    "$$log_{10}M_0 = 1.5 M_S + 9.1$$\n",
    "\n",
    "$$M_W = \\frac{2}{3}(log_{10}(M_0) - 9.1)$$  \n",
    "\n",
    "Die freigesetzte seismische Energie $E_S$ in [J] kann wie folgt abgeschätzt werden:  \n",
    "\n",
    "$$E_S = 10^{M_W 1.5 + 4.4}$$"
   ]
  },
  {
   "cell_type": "code",
   "execution_count": 1,
   "metadata": {
    "collapsed": true
   },
   "outputs": [],
   "source": [
    "# load dependencies\n",
    "import pandas as p\n",
    "import numpy as np\n",
    "#from scipy.interpolate import interp1d\n",
    "\n",
    "#import seaborn as sns\n",
    "#sns.set_style('whitegrid')\n",
    "#sns.set_context('poster')\n",
    "import matplotlib.pyplot as plt\n",
    "%matplotlib inline"
   ]
  },
  {
   "cell_type": "code",
   "execution_count": 2,
   "metadata": {},
   "outputs": [
    {
     "data": {
      "text/html": [
       "<div>\n",
       "<style>\n",
       "    .dataframe thead tr:only-child th {\n",
       "        text-align: right;\n",
       "    }\n",
       "\n",
       "    .dataframe thead th {\n",
       "        text-align: left;\n",
       "    }\n",
       "\n",
       "    .dataframe tbody tr th {\n",
       "        vertical-align: top;\n",
       "    }\n",
       "</style>\n",
       "<table border=\"1\" class=\"dataframe\">\n",
       "  <thead>\n",
       "    <tr style=\"text-align: right;\">\n",
       "      <th></th>\n",
       "      <th>Mw</th>\n",
       "      <th>Es [J]</th>\n",
       "      <th>TNT [t]</th>\n",
       "      <th>Nr Hiroshima</th>\n",
       "    </tr>\n",
       "  </thead>\n",
       "  <tbody>\n",
       "    <tr>\n",
       "      <th>0</th>\n",
       "      <td>1</td>\n",
       "      <td>2.000000e+06</td>\n",
       "      <td>4.750000e-04</td>\n",
       "      <td>3.800000e-08</td>\n",
       "    </tr>\n",
       "    <tr>\n",
       "      <th>1</th>\n",
       "      <td>2</td>\n",
       "      <td>6.300000e+07</td>\n",
       "      <td>1.500000e-02</td>\n",
       "      <td>1.200000e-06</td>\n",
       "    </tr>\n",
       "    <tr>\n",
       "      <th>2</th>\n",
       "      <td>3</td>\n",
       "      <td>2.000000e+09</td>\n",
       "      <td>4.750000e-01</td>\n",
       "      <td>3.800000e-05</td>\n",
       "    </tr>\n",
       "    <tr>\n",
       "      <th>3</th>\n",
       "      <td>4</td>\n",
       "      <td>6.300000e+10</td>\n",
       "      <td>1.500000e+01</td>\n",
       "      <td>1.000000e-03</td>\n",
       "    </tr>\n",
       "    <tr>\n",
       "      <th>4</th>\n",
       "      <td>5</td>\n",
       "      <td>2.000000e+12</td>\n",
       "      <td>4.750000e+02</td>\n",
       "      <td>3.800000e-02</td>\n",
       "    </tr>\n",
       "    <tr>\n",
       "      <th>5</th>\n",
       "      <td>6</td>\n",
       "      <td>6.300000e+13</td>\n",
       "      <td>1.500000e+04</td>\n",
       "      <td>1.200000e+00</td>\n",
       "    </tr>\n",
       "    <tr>\n",
       "      <th>6</th>\n",
       "      <td>7</td>\n",
       "      <td>2.000000e+15</td>\n",
       "      <td>4.750000e+05</td>\n",
       "      <td>3.800000e+01</td>\n",
       "    </tr>\n",
       "    <tr>\n",
       "      <th>7</th>\n",
       "      <td>8</td>\n",
       "      <td>6.300000e+16</td>\n",
       "      <td>1.500000e+07</td>\n",
       "      <td>1.200000e+03</td>\n",
       "    </tr>\n",
       "    <tr>\n",
       "      <th>8</th>\n",
       "      <td>9</td>\n",
       "      <td>2.000000e+18</td>\n",
       "      <td>4.750000e+08</td>\n",
       "      <td>3.800000e+04</td>\n",
       "    </tr>\n",
       "  </tbody>\n",
       "</table>\n",
       "</div>"
      ],
      "text/plain": [
       "   Mw        Es [J]       TNT [t]  Nr Hiroshima\n",
       "0   1  2.000000e+06  4.750000e-04  3.800000e-08\n",
       "1   2  6.300000e+07  1.500000e-02  1.200000e-06\n",
       "2   3  2.000000e+09  4.750000e-01  3.800000e-05\n",
       "3   4  6.300000e+10  1.500000e+01  1.000000e-03\n",
       "4   5  2.000000e+12  4.750000e+02  3.800000e-02\n",
       "5   6  6.300000e+13  1.500000e+04  1.200000e+00\n",
       "6   7  2.000000e+15  4.750000e+05  3.800000e+01\n",
       "7   8  6.300000e+16  1.500000e+07  1.200000e+03\n",
       "8   9  2.000000e+18  4.750000e+08  3.800000e+04"
      ]
     },
     "execution_count": 2,
     "metadata": {},
     "output_type": "execute_result"
    }
   ],
   "source": [
    "dat=p.read_csv('data/MomMag.csv')\n",
    "dat"
   ]
  },
  {
   "cell_type": "code",
   "execution_count": 11,
   "metadata": {},
   "outputs": [
    {
     "data": {
      "text/plain": [
       "<matplotlib.text.Text at 0x7efc662ee080>"
      ]
     },
     "execution_count": 11,
     "metadata": {},
     "output_type": "execute_result"
    },
    {
     "data": {
      "image/png": "[encoded data removed]",
      "text/plain": [
       "<matplotlib.figure.Figure at 0x7efc66799b70>"
      ]
     },
     "metadata": {},
     "output_type": "display_data"
    }
   ],
   "source": [
    "mw = np.linspace(0,11,120)\n",
    "Es = 10**(mw*1.5+4.8)\n",
    "plt.figure(figsize=[10,6])\n",
    "plt.loglog(dat['Mw'],dat['Es [J]']/1e6,'o',label='Literatur')\n",
    "plt.loglog(mw,Es/1e6,'-',label='Extrapolation')\n",
    "plt.grid(True,which=\"both\",ls=\"-\")\n",
    "#plt.grid(True, which='minor', ls='-',color='gray', linewidth=0.5)\n",
    "plt.ylabel('Energy [MJ]')\n",
    "plt.xlabel('M$_W$')"
   ]
  },
  {
   "cell_type": "markdown",
   "metadata": {},
   "source": [
    "Todo:  \n",
    "* Magnitude ranges of earthquakes \n",
    "* Relate magnitudes to energy needed    \n",
    "* relate energy needed to come from the crystals either piezo or implosion of deranged electron crystal"
   ]
  }
 ],
 "metadata": {
  "kernelspec": {
   "display_name": "Python 3",
   "language": "python",
   "name": "python3"
  },
  "language_info": {
   "codemirror_mode": {
    "name": "ipython",
    "version": 3
   },
   "file_extension": ".py",
   "mimetype": "text/x-python",
   "name": "python",
   "nbconvert_exporter": "python",
   "pygments_lexer": "ipython3",
   "version": "3.6.1"
  },
  "latex_envs": {
   "LaTeX_envs_menu_present": true,
   "autocomplete": true,
   "bibliofile": "biblio.bib",
   "cite_by": "apalike",
   "current_citInitial": 1,
   "eqLabelWithNumbers": true,
   "eqNumInitial": 1,
   "hotkeys": {
    "equation": "Ctrl-E",
    "itemize": "Ctrl-I"
   },
   "labels_anchors": false,
   "latex_user_defs": false,
   "report_style_numbering": false,
   "user_envs_cfg": false
  },
  "toc": {
   "colors": {
    "hover_highlight": "#DAA520",
    "navigate_num": "#000000",
    "navigate_text": "#333333",
    "running_highlight": "#FF0000",
    "selected_highlight": "#FFD700",
    "sidebar_border": "#EEEEEE",
    "wrapper_background": "#FFFFFF"
   },
   "moveMenuLeft": true,
   "nav_menu": {
    "height": "47px",
    "width": "253px"
   },
   "navigate_menu": true,
   "number_sections": false,
   "sideBar": true,
   "threshold": 4,
   "toc_cell": false,
   "toc_section_display": "block",
   "toc_window_display": false,
   "widenNotebook": false
  }
 },
 "nbformat": 4,
 "nbformat_minor": 2
}
