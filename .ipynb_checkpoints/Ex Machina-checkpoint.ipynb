{
 "cells": [
  {
   "cell_type": "markdown",
   "metadata": {},
   "source": [
    "In the movie [Ex Machina](https://www.imdb.com/title/tt0470752/?ref_=fn_al_tt_1), Caleb (played by Domhnall Gleeson) secretly writes some code into Nathan's (his *boss*) system to sabotage his work.  \n",
    "\n",
    "You can see the code, which is written in Python 2.7, for a brief moment:\n",
    "\n",
    "![code](https://i.imgur.com/C44iJeR.jpg)\n",
    "\n",
    "Let's ignore the horrendous indentations after the function definitions and see, what the code does. Writing the code (here in Python 3.6) yields:  "
   ]
  },
  {
   "cell_type": "code",
   "execution_count": 2,
   "metadata": {},
   "outputs": [
    {
     "name": "stdout",
     "output_type": "stream",
     "text": [
      "ISBN = 9780199226559\n"
     ]
    }
   ],
   "source": [
    "#BlueBook code decryption\n",
    "\n",
    "import sys\n",
    "\n",
    "def sieve(n):\n",
    "    # Compute the primes using sieve of Eratosthemes\n",
    "\n",
    "    x = [1] * n\n",
    "    x[1] = 0\n",
    "    \n",
    "    for i in range(2, n//2):  # has to be // in Python 3.x to get integer division\n",
    "        j = 2 * i\n",
    "        while j < n:\n",
    "            x[j] = 0\n",
    "            j = j + i\n",
    "    \n",
    "    return x\n",
    "\n",
    "def prime(n,x):\n",
    "    # Find nth prime\n",
    "    \n",
    "    i = 1\n",
    "    j = 1\n",
    "    \n",
    "    while j <= n:\n",
    "        if x[i] == 1:\n",
    "            j = j + 1\n",
    "        i = i + 1\n",
    "        \n",
    "    return i - 1\n",
    "\n",
    "# Compute BlueBook unlock code\n",
    "\n",
    "x = sieve(10000)\n",
    "\n",
    "code = [1206, 301, 384, 5]\n",
    "key = [1, 1, 2, 2]\n",
    "\n",
    "sys.stdout.write(\"\".join(chr(i) for i in [73, 83, 66, 78, 32, 61, 32]))\n",
    "\n",
    "for i in range(0, 4):\n",
    "    sys.stdout.write(str(prime(code[i],x) - key[i]))\n",
    "    \n",
    "print()"
   ]
  },
  {
   "cell_type": "markdown",
   "metadata": {},
   "source": [
    "First off, the [sieve of Eratosthemes](https://en.wikipedia.org/wiki/Sieve_of_Eratosthenes) is an old algorithm for finding prime numbers up to a given end number. You list all numbers from 2 onward until that end number. Then you strike out 2 and every second number thereafter. Then you proceed to the 3 and remove every third number thereafter. And so on, and so on until you cannot remove any more numbers...:     \n",
    "![sieve](https://upload.wikimedia.org/wikipedia/commons/b/b9/Sieve_of_Eratosthenes_animation.gif)  \n",
    "(source [Wikipedia](https://upload.wikimedia.org/wikipedia/commons/b/b9/Sieve_of_Eratosthenes_animation.gif))  \n",
    "\n",
    "The result of the code above is an ISBN Number, referring to the book [Embodiment and the inner life](https://www.doc.ic.ac.uk/~mpsha/EIL.html) by [Murray Shanahan](https://www.doc.ic.ac.uk/~mpsha/), Professor of Cognitive Robotics at the Imperial College London. So, the \"sabotage\" code is actually a nice Easter Egg and homage.\n"
   ]
  }
 ],
 "metadata": {
  "hide_input": false,
  "kernelspec": {
   "display_name": "Python 3",
   "language": "python",
   "name": "python3"
  },
  "language_info": {
   "codemirror_mode": {
    "name": "ipython",
    "version": 3
   },
   "file_extension": ".py",
   "mimetype": "text/x-python",
   "name": "python",
   "nbconvert_exporter": "python",
   "pygments_lexer": "ipython3",
   "version": "3.6.1"
  },
  "toc": {
   "base_numbering": 1,
   "nav_menu": {},
   "number_sections": false,
   "sideBar": true,
   "skip_h1_title": false,
   "title_cell": "Table of Contents",
   "title_sidebar": "Contents",
   "toc_cell": false,
   "toc_position": {},
   "toc_section_display": true,
   "toc_window_display": false
  },
  "varInspector": {
   "cols": {
    "lenName": 16,
    "lenType": 16,
    "lenVar": 40
   },
   "kernels_config": {
    "python": {
     "delete_cmd_postfix": "",
     "delete_cmd_prefix": "del ",
     "library": "var_list.py",
     "varRefreshCmd": "print(var_dic_list())"
    },
    "r": {
     "delete_cmd_postfix": ") ",
     "delete_cmd_prefix": "rm(",
     "library": "var_list.r",
     "varRefreshCmd": "cat(var_dic_list()) "
    }
   },
   "types_to_exclude": [
    "module",
    "function",
    "builtin_function_or_method",
    "instance",
    "_Feature"
   ],
   "window_display": false
  }
 },
 "nbformat": 4,
 "nbformat_minor": 2
}
