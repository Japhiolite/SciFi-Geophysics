{
 "cells": [
  {
   "cell_type": "markdown",
   "metadata": {},
   "source": [
    "# Energieträger Kyberkristalle\n",
    "\n",
    "<hr>\n",
    "\n",
    "<center> _\"Only the strongest Stars have hearts of Kyber.\"_ [Chirrut Îmwe](http://starwars.wikia.com/wiki/Chirrut_%C3%8Emwe) </center>  \n",
    "\n",
    "<hr>\n",
    "\n",
    "Nehmen wir an, Chirrut bezieht sich wirklich auf Sterne, so könnten [Kyber Kristalle](http://starwars.wikia.com/wiki/Kyber_crystal), das Herz der Lichtschwerter und auch des Todessterns, aus _den stärksten Sternen_ kommen. Da folgt direkt die Frage, was diese _stärksten Sterne_ sein könnten.  \n",
    "* junge (Hyper-)Riesen, wie [Deneb](https://de.wikipedia.org/wiki/Deneb) oder [R136a1]( https://de.wikipedia.org/wiki/R136a1), der ca zehn Millionen mal heller leuchtet als die Sonne?    \n",
    "* alte massereiche Sterne, wie [Neutronensterne](https://de.wikipedia.org/wiki/Neutronenstern), die eine unvorstellbar hohe Dichte ( $4.8 10^{17}$ kg m$^{-1}$ ) haben?  \n",
    "\n",
    "Die Suche nach einem stabilen Kristall bei einem Neutronenstern kann man schon nach wenigen Metern Tiefe aufgeben (bis in ca 10 m Tiefe bilden in einem Kristallgitter gebundene Eisenatomkerne und Elektronen die Kruste). Solche Eisenatomkernkristalle können auch noch in einer Tiefe von 2 km gefunden werden.\n",
    "Aber bei einer Dichte, die ein Tausendstel eines Atomkerns annähert, könnten solche Kristalle sicherlich kaum am Hals (siehe [Rogue One](http://www.imdb.com/title/tt3748528/)) getragen werden, oder im Lichtschwert verpackt am Gürtel.  \n",
    "\n",
    "Auf Suchen im Internet bin ich auf eine [weitere Erklärung](https://scifi.stackexchange.com/questions/160998/what-does-chirrut-mean-by-the-strongest-stars-have-hearts-of-kyber) gestoßen, die fiktiven Kyber Kristalle in unsere Realität zu übersetzen....  \n",
    "Kurzfassung:  \n",
    "* Die Sterne, die gemeint sein könnten, könnten Weiße Zwerge sein  \n",
    "* Weiße Zwerge weisen auch schon eine beachtliche Dichte auf (ein Teelöffel, also 5 cm$^3$, wiegen gut 5 Tonnen ).\n",
    "* Berücksichtigt man zum Kristallaufbau aber nur Elektronen der [entarteten Materie](https://de.wikipedia.org/wiki/Entartete_Materie) eines weißen Zwerges, wögen 5 cm$^3$ so viel wie ein ordentliches Steak, um die 230 Gramm.  \n",
    "* Dies hieße, dass das Kristallmaterial nur aus einer Elektronenmatrix bestünden, die zur Hälfte aus positiv geladenen Antimateriepositronen besteht. In diesem 50/50 Gleichgewicht könnte diese dichte Kristallmatrix stabil sein.  \n",
    "\n",
    "Selbstverständlich sind das alles recht abstruse Hypothesen, aber angenommen, wir haben einen Solch dichten Kristall, der sich polarisieren lässt. Hinweise dafür findet man im Buch _Catalyst: A Rogue One Novel_:  \n",
    "_\"He held the crystal up to the light of the displays, marveling at the kyber's mix of transparency and opacity - characteristics the ancient Jedi had referred to as 'the water of the kyber'.  The energy potential was given; his team had proven as much in their earliest piezoelectric experiments.\"_  \n",
    "Folglich tritt in Kyberkristallen eine starke elektrische Spannung auf, wenn diese elastisch verformt werden (siehe [Piezoelektrischer Effekt](https://de.wikipedia.org/wiki/Piezoelektrizit%C3%A4t))."
   ]
  },
  {
   "cell_type": "markdown",
   "metadata": {},
   "source": [
    "Todo:  \n",
    "* Magnitude ranges of earthquakes \n",
    "* Relate magnitudes to energy needed    \n",
    "* relate energy needed to come from the crystals either piezo or implosion of deranged electron crystal"
   ]
  }
 ],
 "metadata": {
  "kernelspec": {
   "display_name": "Python 3",
   "language": "python",
   "name": "python3"
  },
  "language_info": {
   "codemirror_mode": {
    "name": "ipython",
    "version": 3
   },
   "file_extension": ".py",
   "mimetype": "text/x-python",
   "name": "python",
   "nbconvert_exporter": "python",
   "pygments_lexer": "ipython3",
   "version": "3.5.4"
  }
 },
 "nbformat": 4,
 "nbformat_minor": 2
}
